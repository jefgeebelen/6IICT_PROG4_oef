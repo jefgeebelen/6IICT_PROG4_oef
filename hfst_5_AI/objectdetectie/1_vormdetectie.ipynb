{
 "cells": [
  {
   "attachments": {},
   "cell_type": "markdown",
   "id": "695ca872",
   "metadata": {},
   "source": [
    "<div style=\"margin-bottom:-35px;\">\n",
    "    <font color=#690027 markdown=\"1\">\n",
    "        <h1> <center> Gebaseerd op een cursus van:</center> </h1> \n",
    "    </font>\n",
    "    <a href=\"https://www.aiopschool.be/chatbot/\"> \n",
    "        <img src=\"../_afbeeldingen/bannerugentdwengo.png\" alt=\"Dwengo\" style =\"display: block; margin-left: auto; margin-right: auto; margin-bottom: 30px; width:20%\"/>\n",
    "    </a>\n",
    "</div>"
   ]
  },
  {
   "attachments": {},
   "cell_type": "markdown",
   "id": "024a4b15",
   "metadata": {},
   "source": [
    "<div style=\"margin-bottom:-35px;\">\n",
    "    <font color=#690027 markdown=\"1\">\n",
    "        <h1>1. Wat is Objectdetectie?</h1> \n",
    "    </font>\n",
    "</div>"
   ]
  },
  {
   "attachments": {},
   "cell_type": "markdown",
   "id": "974b4dae",
   "metadata": {},
   "source": [
    "<div class=\"alert alert-box alert-success\">\n",
    "Hoewel objectdetectiesystemen tegenwoordig al op heel wat plaatsen gebruikt worden in de maatschappij, zijn er toch nog heel wat verbeteringen mogelijk. In deze Notebook kom je we wat meer te weten over de basiswerking van een objectdetectiesysteem. "
   ]
  },
  {
   "cell_type": "markdown",
   "id": "878f311b",
   "metadata": {},
   "source": [
    "<div class=\"alert alert-box alert-info\">\n",
    "    Objectdetectie kan worden gedefinieerd als een computervisietechniek die tot doel heeft objecten op een afbeelding of video te lokaliseren en a.d.h.v. een classificatietechniek te identificeren. \n",
    "</div>"
   ]
  },
  {
   "attachments": {},
   "cell_type": "markdown",
   "id": "beb32bf9",
   "metadata": {},
   "source": [
    "Deze techniek wordt bijvoorbeeld toegepast door de politie bij het oplossen van een misdrijf. Een computersysteem kan namelijk veel sneller werken dan een mens. Toch is het niet zo eenvoudig voor een computer om een object op afbeelding te herkennen. Dit komt doordat de computer op een andere manier naar een afbeelding kijkt. "
   ]
  },
  {
   "attachments": {},
   "cell_type": "markdown",
   "id": "93b5dcac",
   "metadata": {},
   "source": [
    "<div style=\"margin-bottom:-35px;\">\n",
    "    <font color=#690027 markdown=\"1\">\n",
    "        <h2>2. Inleiding</h2> \n",
    "    </font>\n",
    "</div>"
   ]
  },
  {
   "attachments": {},
   "cell_type": "markdown",
   "id": "e579f462",
   "metadata": {},
   "source": [
    "Een computer werkt binair: een computer zal dus geen afbeelding te zien krijgen zoals wij die zien, maar wel allemaal getallen (zie onderstaande afbeeldingen). Dit werkt als volgt:<br> Een afbeelding bestaat uit pixels. Iedere pixel heeft een bepaalde kleur; die kleur kan worden voorgesteld door een reeks getallen. \n",
    "\n",
    "Doordat een computer dus met getallen werkt, zal het moeilijker zijn voor een computer om een voorwerp te herkennen dan voor de mens."
   ]
  },
  {
   "attachments": {},
   "cell_type": "markdown",
   "id": "42f98adf",
   "metadata": {},
   "source": [
    "<div style=\"background-color:#000065\">\n",
    "    Een computer ziet enkel een digitale representatie van een afbeelding. De betekenis van wat er te zien is, ontgaat de computer.\n",
    "</div>"
   ]
  },
  {
   "attachments": {},
   "cell_type": "markdown",
   "id": "d13d635f",
   "metadata": {},
   "source": [
    "<table><tr>\n",
    "<td><figure>\n",
    "  <img src=\"../_afbeeldingen/beeldcomputer.jpg\" alt=\"Trulli\" width=\"400\"/>\n",
    "   <center>\"Zien\": Mens vs Computer</center> \n",
    "    </figure></td>\n",
    "<td><figure>\n",
    "  <img src=\"../_afbeeldingen/watcomputerziet.png\" alt=\"Trulli\" height=\"200\">\n",
    "  <center>\"Zien\": Mens vs Computer</center>\n",
    "</figure></td>\n",
    "</tr></table>"
   ]
  },
  {
   "attachments": {},
   "cell_type": "markdown",
   "id": "51a5bac4",
   "metadata": {},
   "source": [
    "#### Oefen mee 2.1"
   ]
  },
  {
   "attachments": {},
   "cell_type": "markdown",
   "id": "a199c481",
   "metadata": {},
   "source": [
    "Welk object zie je op de onderstaande onscherpe afbeelding?<br><br>\n",
    "**Antwoord:** "
   ]
  },
  {
   "attachments": {},
   "cell_type": "markdown",
   "id": "d09446e9",
   "metadata": {},
   "source": [
    "  <img src=\"../_afbeeldingen/wazigeafbeelding1.jpg\" alt=\"Trulli\" style =\"display: block; margin-left: auto; margin-right: auto; margin-bottom: 10px; width:30%\">\n"
   ]
  },
  {
   "attachments": {},
   "cell_type": "markdown",
   "id": "91751506",
   "metadata": {},
   "source": [
    "Welk object zie je op deze?<br><br>\n",
    "**Antwoord:** "
   ]
  },
  {
   "attachments": {},
   "cell_type": "markdown",
   "id": "c7f9b3c1",
   "metadata": {},
   "source": [
    "\n",
    "  <img src=\"../_afbeeldingen/wazigeafbeelding2.jpg\" alt=\"Trulli\" style =\"display: block; margin-left: auto; margin-right: auto; margin-bottom: 10px; width:30%\">\n"
   ]
  },
  {
   "cell_type": "markdown",
   "id": "13cb7efa",
   "metadata": {},
   "source": [
    "Op beide figuren is hetzelfde voorwerp zichtbaar, maar op de tweede figuur is het voorwerp 90 graden gedraaid. Waarom identificeer je het object op de eerste afbeelding niet als een liggend persoon? Misschien omdat je de link legt met de straat die zichtbaar is op de figuur? "
   ]
  },
  {
   "attachments": {},
   "cell_type": "markdown",
   "id": "1b02e0e6",
   "metadata": {},
   "source": [
    "<div style=\"background-color:#000065\">\n",
    "Terwijl het voor een mens vanzelfsprekend is om objecten te linken aan de omgeving en de context waar deze zich in bevinden, is dit voor een algoritme veel complexer. Hierin bevindt zich dus nog een extra moeilijkheid bij het detecteren en identificeren van objecten.  \n",
    "</div>"
   ]
  },
  {
   "attachments": {},
   "cell_type": "markdown",
   "id": "cd5a2b18",
   "metadata": {},
   "source": [
    "In deze Notebook ontwikkel je een algoritme dat wiskundige vormen kan herkenen. Objectdetectie kan op veel verschillende manieren worden uit gevoerd, hier zal een `regelgebaseerde (AI) techniek` besproken worden."
   ]
  },
  {
   "attachments": {},
   "cell_type": "markdown",
   "id": "cd2c4c30",
   "metadata": {},
   "source": [
    "<div style=\"margin-bottom:-35px;\">\n",
    "    <font color=#690027 markdown=\"1\">\n",
    "        <h2>3. Modules installeren en importeren</h2> \n",
    "    </font>\n",
    "</div>"
   ]
  },
  {
   "attachments": {},
   "cell_type": "markdown",
   "id": "4640f03d",
   "metadata": {},
   "source": [
    "<div style=\"background-color:#000065\"> \n",
    "<p>Je zal gebruikmaken van opencv. OpenCV-Python is een module ontworpen om computervisieproblemen op te lossen. Deze bevat reeds voorgeprogrammeerde functies die kunnen gebruikt worden voor objectverwerking, -verdeling, -detectie, -herkenning, ...\n",
    "\n",
    "Hiernaast installeer je ook numpy en matplotlib om verdere oefeningen uit te voeren. Numpy is een module die een scala aan wiskundige en wetenschappelijke functies aanbied. De werking van matplotlib kennen jullie ondertussen wel. \n",
    "</div>"
   ]
  },
  {
   "attachments": {},
   "cell_type": "markdown",
   "id": "9d536f28",
   "metadata": {},
   "source": [
    "<div style=\"background-color:#8B0000\"> \n",
    "Wees zeker dat je rechtsboven de juiste environment hebt geselecteerd vooraleer opencv te installeren.\n",
    "</div>"
   ]
  },
  {
   "cell_type": "code",
   "execution_count": 2,
   "id": "686ff180",
   "metadata": {
    "scrolled": true
   },
   "outputs": [
    {
     "name": "stdout",
     "output_type": "stream",
     "text": [
      "Requirement already satisfied: opencv-python in c:\\users\\geje051205\\appdata\\local\\programs\\python\\python311\\lib\\site-packages (4.7.0.68)\n",
      "Requirement already satisfied: numpy>=1.21.2 in c:\\users\\geje051205\\appdata\\local\\programs\\python\\python311\\lib\\site-packages (from opencv-python) (1.24.1)\n",
      "Note: you may need to restart the kernel to use updated packages.\n",
      "Requirement already satisfied: numpy in c:\\users\\geje051205\\appdata\\local\\programs\\python\\python311\\lib\\site-packages (1.24.1)\n",
      "Note: you may need to restart the kernel to use updated packages.\n",
      "Requirement already satisfied: matplotlib in c:\\users\\geje051205\\appdata\\local\\programs\\python\\python311\\lib\\site-packages (3.6.3)\n",
      "Requirement already satisfied: contourpy>=1.0.1 in c:\\users\\geje051205\\appdata\\local\\programs\\python\\python311\\lib\\site-packages (from matplotlib) (1.0.7)\n",
      "Requirement already satisfied: cycler>=0.10 in c:\\users\\geje051205\\appdata\\local\\programs\\python\\python311\\lib\\site-packages (from matplotlib) (0.11.0)\n",
      "Requirement already satisfied: fonttools>=4.22.0 in c:\\users\\geje051205\\appdata\\local\\programs\\python\\python311\\lib\\site-packages (from matplotlib) (4.38.0)\n",
      "Requirement already satisfied: kiwisolver>=1.0.1 in c:\\users\\geje051205\\appdata\\local\\programs\\python\\python311\\lib\\site-packages (from matplotlib) (1.4.4)\n",
      "Requirement already satisfied: numpy>=1.19 in c:\\users\\geje051205\\appdata\\local\\programs\\python\\python311\\lib\\site-packages (from matplotlib) (1.24.1)\n",
      "Requirement already satisfied: packaging>=20.0 in c:\\users\\geje051205\\appdata\\local\\programs\\python\\python311\\lib\\site-packages (from matplotlib) (23.0)\n",
      "Requirement already satisfied: pillow>=6.2.0 in c:\\users\\geje051205\\appdata\\local\\programs\\python\\python311\\lib\\site-packages (from matplotlib) (9.4.0)\n",
      "Requirement already satisfied: pyparsing>=2.2.1 in c:\\users\\geje051205\\appdata\\local\\programs\\python\\python311\\lib\\site-packages (from matplotlib) (3.0.9)\n",
      "Requirement already satisfied: python-dateutil>=2.7 in c:\\users\\geje051205\\appdata\\local\\programs\\python\\python311\\lib\\site-packages (from matplotlib) (2.8.2)\n",
      "Requirement already satisfied: six>=1.5 in c:\\users\\geje051205\\appdata\\local\\programs\\python\\python311\\lib\\site-packages (from python-dateutil>=2.7->matplotlib) (1.16.0)\n",
      "Note: you may need to restart the kernel to use updated packages.\n"
     ]
    }
   ],
   "source": [
    "# installeren van module opencv\n",
    "%pip install opencv-python\n",
    "# installeren van module numpy\n",
    "%pip install numpy\n",
    "# installeren van module matplotlib\n",
    "%pip install matplotlib"
   ]
  },
  {
   "cell_type": "code",
   "execution_count": 3,
   "id": "351427d9",
   "metadata": {},
   "outputs": [],
   "source": [
    "# nodige modules importeren\n",
    "import cv2\n",
    "import numpy as np\n",
    "from matplotlib import pyplot as plt"
   ]
  },
  {
   "attachments": {},
   "cell_type": "markdown",
   "id": "09b95b55",
   "metadata": {},
   "source": [
    "<div style=\"margin-bottom:-35px;\">\n",
    "    <font color=#690027 markdown=\"1\">\n",
    "        <h2>4. Foto inladen</h2> \n",
    "    </font>\n",
    "</div>"
   ]
  },
  {
   "attachments": {},
   "cell_type": "markdown",
   "id": "345c26e3",
   "metadata": {},
   "source": [
    "Om het objectiedetectiealgoritme te laten werken heb je een afbeelding nodig. Voor deze Notebook heb je de afbeelding `vormen.png` ter beschikking in de map `_afbeeldingen`. \n",
    "\n",
    "In het stuk code hieronder staat een functie om de afbeelding weer te geven. Voer de code-cel uit."
   ]
  },
  {
   "cell_type": "code",
   "execution_count": 5,
   "id": "8f3a5950",
   "metadata": {},
   "outputs": [
    {
     "data": {
      "image/png": "[encoded data removed]",
      "text/plain": [
       "<Figure size 640x480 with 1 Axes>"
      ]
     },
     "metadata": {},
     "output_type": "display_data"
    }
   ],
   "source": [
    "#functie om afbeelding weer te geven\n",
    "def plt_imshow(title, image):\n",
    "    image = cv2.cvtColor(image, cv2.COLOR_BGR2RGB)\n",
    "    plt.imshow(image)\n",
    "    plt.title(title)\n",
    "    plt.grid(False)\n",
    "    plt.show()\n",
    "\n",
    "# inlezen afbeelding (Controleer je pad!)\n",
    "vormen = cv2.imread(\"../_afbeeldingen/vormen.png\")\n",
    "\n",
    "# oproepen van functie plt_show\n",
    "plt_imshow(\"Afbeelding\", vormen)"
   ]
  },
  {
   "attachments": {},
   "cell_type": "markdown",
   "id": "ef4a5d19",
   "metadata": {},
   "source": [
    "### Oefen mee 4.1\n",
    "-  Welke wiskundige vormen herken je? \n",
    "-  Hoe herken je deze vormen? Wat zijn de eigenschappen van de vormen waarop je gelet hebt?\n",
    "-  Is er een eigenschap die voor geen enkel van de vormen hetzelde is?"
   ]
  },
  {
   "attachments": {},
   "cell_type": "markdown",
   "id": "815be6ec",
   "metadata": {},
   "source": [
    "**Antwoord:**\n"
   ]
  },
  {
   "attachments": {},
   "cell_type": "markdown",
   "id": "353ec67e",
   "metadata": {},
   "source": [
    "<div style=\"margin-bottom:-35px;\">\n",
    "    <font color=#690027 markdown=\"1\">\n",
    "        <h2>5. Algoritme voor vormdetectie</h2> \n",
    "    </font>\n",
    "</div>"
   ]
  },
  {
   "attachments": {},
   "cell_type": "markdown",
   "id": "9f32de10",
   "metadata": {},
   "source": [
    "<div style=\"margin-bottom:-35px;\">\n",
    "    <font color=#690027 markdown=\"1\">\n",
    "        <h3>5.1 Algemene uitleg</h3> \n",
    "    </font>\n",
    "</div>\n"
   ]
  },
  {
   "attachments": {},
   "cell_type": "markdown",
   "id": "efd7a1c9",
   "metadata": {},
   "source": [
    "Net zoals jij in `oefen mee 4.1` deed. Zal het algoritme ook aan de hand van eigenschappen werken om de vorm te herkennen. Wij denken hier niet zo diep meer bij na, maar het is doordat we bepaalde eigenschappen hebben aangeleerd dat het herkennen van de figuren zo vlot verloopt. Zo herkennen we bovenstaande figuren aan de hand van het aantal hoeken, aan het aantal evenwijdige zijden ...  Wij kunnen de eigenschappen makkelijk zien op het eerste zicht. Een computer, zoals hier besproken, kan echter enkel de getallen \"zien\". \n",
    "\n",
    "Wij moeten het algoritme dus aangeven hoe het een bepaalde figuur kan herkennen. Dit door te zeggen op welke eigenschap het moet letten. We kunnen het voor deze implementatie simpel houden. Iedere vorm heeft een ander aantal zijden. We kunnen ons daarom baseren op een `regelgebaseerde implementatie`. \n",
    "\n",
    "<div style=\"background-color:#8B0000\"> \n",
    "Bedenk dat onze huidige implementatie dom is... er bestaan meerdere vormen met bvb. 4 zijden.\n",
    "De implementatie werkt dus enkel voor deze specifieke afbeelding.\n",
    "</div>"
   ]
  },
  {
   "attachments": {},
   "cell_type": "markdown",
   "id": "9f32de10",
   "metadata": {},
   "source": [
    "<div style=\"margin-bottom:-35px;\">\n",
    "    <font color=#690027 markdown=\"1\">\n",
    "        <h3>5.2 Afbeelding converteren naar grijswaarden</h3> \n",
    "    </font>\n",
    "</div>\n"
   ]
  },
  {
   "attachments": {},
   "cell_type": "markdown",
   "id": "3603be25",
   "metadata": {},
   "source": [
    "Iedere pixel op een afbeelding bestaat uit 3 getallen tussen 0 en 255 (**RGB**). Dit grootte aantal getallen verwerken kan zeer belastend zijn. Om de processor te sparen kan de computer de afbeelding eerst omzetten naar een `grijswaardenafbeelding`. Waarbij iedere pixel slechts uit 1 getal tussen 0 en 255 bestaat. \n",
    "\n",
    "Door de pixelwaardes om te zetten naar grijswaarden zal het verschil tussen een figuur en de achtergrond ook duidelijker worden; wit (achtergrond) zal een heel hoge pixelwaarde hebben en grijs/zwart (figuren) een lage pixelwaarde.\n",
    "\n",
    "Run onderstaand code-blok. De driehoek blijft zichtbaar. Ondanks dat enkel grijswaarden gegeven zijn. Naast de driehoek is er ook een matrix gegeven. Deze stelt de cijfer-waarde van iedere pixel voor. Kan je ook hier de driehoek in vinden?"
   ]
  },
  {
   "cell_type": "code",
   "execution_count": 15,
   "id": "2b0a16ef",
   "metadata": {},
   "outputs": [
    {
     "data": {
      "image/png": "[encoded data removed]",
      "text/plain": [
       "<Figure size 640x480 with 1 Axes>"
      ]
     },
     "metadata": {},
     "output_type": "display_data"
    },
    {
     "name": "stdout",
     "output_type": "stream",
     "text": [
      "[[250 254 248 252 252 250 248 253 253 253 251 253 253 249]\n",
      " [252 254 250 248 252 251 253 254 250 252 251 251 251 249]\n",
      " [252 254 254 250 254 254 254 248 253 254 254 254 251 251]\n",
      " [252 253 254 254 249 252 250 249 252 254 255 253 251 251]\n",
      " [253 253 251 254 242 249 227 232 250 249 246 252 251 250]\n",
      " [252 253 243 254 248 241 162 155 247 253 252 251 250 248]\n",
      " [251 253 249 252 248 215 100  91 231 252 254 252 248 249]\n",
      " [253 254 254 247 238 192  89 101 189 235 254 252 248 250]\n",
      " [254 254 254 245 235 116  83  92 109 243 243 252 252 245]\n",
      " [254 250 253 246 201  94  93  91  96 210 245 253 250 255]\n",
      " [254 251 250 243 147  81  97  92  88 151 246 253 247 252]\n",
      " [253 252 249 222  98  88  90  94  92  99 231 249 251 246]\n",
      " [254 251 245 166  91  95  86  93  96  81 185 245 249 243]\n",
      " [254 244 240 105 104  90  91  90  93  86 121 233 247 251]\n",
      " [254 244 204  88  98  86  94  90  90  94  89 200 244 254]\n",
      " [251 250 157 102  77  89  92  92  91  94  90 159 249 247]\n",
      " [255 254 250 248 246 245 243 243 244 245 247 250 253 255]\n",
      " [255 255 255 255 255 255 255 255 255 255 255 255 255 255]\n",
      " [255 255 255 255 255 255 255 255 255 255 255 255 255 255]\n",
      " [255 255 255 255 255 255 255 255 255 255 255 255 255 255]]\n"
     ]
    }
   ],
   "source": [
    "# Controleer het pad!\n",
    "driehoek = cv2.imread(\"../_afbeeldingen/driehoek.jpg\")\n",
    "grijzedriehoek = cv2.cvtColor(driehoek, cv2.COLOR_BGR2GRAY)\n",
    "plt_imshow(\"grijsafbeelding\", grijzedriehoek)\n",
    "print(grijzedriehoek)"
   ]
  },
  {
   "attachments": {},
   "cell_type": "markdown",
   "id": "53bac317",
   "metadata": {},
   "source": [
    "Het elimineren van de kleur is dus in dit geval geen probleem. Als je aan objectdetectie doet, is het altijd belangrijk om na te denken welke info je ECHT nodig hebt. Alle extra info die je verwerkt, is enkel balast voor de computer."
   ]
  },
  {
   "attachments": {},
   "cell_type": "markdown",
   "id": "dda70e52",
   "metadata": {},
   "source": [
    "<div style=\"background-color:#8B8000\"> \n",
    "Herinner je de sentiment analyse. Hier hebben we onze data ook preprocessed (voorbereid).  \n",
    "</div>"
   ]
  },
  {
   "attachments": {},
   "cell_type": "markdown",
   "id": "9f32de10",
   "metadata": {},
   "source": [
    "<div style=\"margin-bottom:-35px;\">\n",
    "    <font color=#690027 markdown=\"1\">\n",
    "        <h3>5.3 Drempelwaarde instellen</h3> \n",
    "    </font>\n",
    "</div>\n"
   ]
  },
  {
   "attachments": {},
   "cell_type": "markdown",
   "id": "59475a78",
   "metadata": {},
   "source": [
    "Ondanks dat we de driehoek duidelijk zien, is er nog ruimte voor discussie. Aan de buitenrand zijn namelijk een aantal pixels die lichter gekleurd zijn. Een computer kan niet werken met onzekerheden. Oftewel is de pixel deel van de driehoek, oftewel niet.\n",
    "\n",
    "We stellen hiervoor een `drempelwaarde (of threshold)` in. \n",
    "- Alle pixels onder deze drempel krijgen een nieuwe waarde 0 (**zwart**). \n",
    "- Alle pixels boven deze drempel krijgen een nieuwe waarde 255 (**wit**).\n",
    "\n",
    "Door deze drempelwaarde zal het voor de computer duidelijk worden wat de achtergrond is en wat de figuur. Zo kunnen de zijden van de figuren bepaald worden. Er is hier manueel gekozen voor de `drempelwaarde 127`. Je zou dit echter ook regelgebaseerd kunnen bepalen (gemiddelde, mediaan, ...)\n",
    "    \n",
    "Run de code hieronder, je ziet nu in de matrix duidelijk de driehoek staan."
   ]
  },
  {
   "cell_type": "code",
   "execution_count": 14,
   "id": "e7b09091",
   "metadata": {},
   "outputs": [
    {
     "data": {
      "image/png": "[encoded data removed]",
      "text/plain": [
       "<Figure size 640x480 with 1 Axes>"
      ]
     },
     "metadata": {},
     "output_type": "display_data"
    },
    {
     "name": "stdout",
     "output_type": "stream",
     "text": [
      "[[255 255 255 255 255 255 255 255 255 255 255 255 255 255]\n",
      " [255 255 255 255 255 255 255 255 255 255 255 255 255 255]\n",
      " [255 255 255 255 255 255 255 255 255 255 255 255 255 255]\n",
      " [255 255 255 255 255 255 255 255 255 255 255 255 255 255]\n",
      " [255 255 255 255 255 255 255 255 255 255 255 255 255 255]\n",
      " [255 255 255 255 255 255 255 255 255 255 255 255 255 255]\n",
      " [255 255 255 255 255 255   0   0 255 255 255 255 255 255]\n",
      " [255 255 255 255 255 255   0   0 255 255 255 255 255 255]\n",
      " [255 255 255 255 255   0   0   0   0 255 255 255 255 255]\n",
      " [255 255 255 255 255   0   0   0   0 255 255 255 255 255]\n",
      " [255 255 255 255 255   0   0   0   0 255 255 255 255 255]\n",
      " [255 255 255 255   0   0   0   0   0   0 255 255 255 255]\n",
      " [255 255 255 255   0   0   0   0   0   0 255 255 255 255]\n",
      " [255 255 255   0   0   0   0   0   0   0   0 255 255 255]\n",
      " [255 255 255   0   0   0   0   0   0   0   0 255 255 255]\n",
      " [255 255 255   0   0   0   0   0   0   0   0 255 255 255]\n",
      " [255 255 255 255 255 255 255 255 255 255 255 255 255 255]\n",
      " [255 255 255 255 255 255 255 255 255 255 255 255 255 255]\n",
      " [255 255 255 255 255 255 255 255 255 255 255 255 255 255]\n",
      " [255 255 255 255 255 255 255 255 255 255 255 255 255 255]]\n"
     ]
    }
   ],
   "source": [
    "# instellen drempelwaarde\n",
    "# alle pixelwaarden kleiner dan 127 worden op nul gezet en al degene groter op 255\n",
    "_, threshold = cv2.threshold(grijzedriehoek, 127, 255, cv2.THRESH_BINARY)\n",
    "plt_imshow(\"grijsafbeelding met drempel\", threshold)\n",
    "print(threshold)\n"
   ]
  },
  {
   "attachments": {},
   "cell_type": "markdown",
   "id": "4fc6689e",
   "metadata": {},
   "source": [
    "### Oefen mee 5.1\n",
    "Schrijf nu zelf een stukje code die de afbeelding met alle wiskundigefiguren (`shapes.png`) omzet naar grijswaarden en daar een threshold op toepast. Baseer je op de voorgaande codeblokken.\n",
    "\n",
    "<div style=\"background-color:#8B0000\"> \n",
    "De matrix kan niet volledig geprint worden. Baseer je op de afbeelding om een correcte drempelwaarde te bepalen.\n",
    "</div>"
   ]
  },
  {
   "cell_type": "code",
   "execution_count": 18,
   "id": "3d3be416",
   "metadata": {},
   "outputs": [
    {
     "data": {
      "image/png": "[encoded data removed]",
      "text/plain": [
       "<Figure size 640x480 with 1 Axes>"
      ]
     },
     "metadata": {},
     "output_type": "display_data"
    },
    {
     "name": "stdout",
     "output_type": "stream",
     "text": [
      "[[255 255 255 ... 255 255 255]\n",
      " [255 255 255 ... 255 255 255]\n",
      " [255 255 255 ... 255 255 255]\n",
      " ...\n",
      " [255 255 255 ... 255 255 255]\n",
      " [255 255 255 ... 255 255 255]\n",
      " [255 255 255 ... 255 255 255]]\n"
     ]
    },
    {
     "data": {
      "image/png": "[encoded data removed]",
      "text/plain": [
       "<Figure size 640x480 with 1 Axes>"
      ]
     },
     "metadata": {},
     "output_type": "display_data"
    },
    {
     "name": "stdout",
     "output_type": "stream",
     "text": [
      "[[255 255 255 ... 255 255 255]\n",
      " [255 255 255 ... 255 255 255]\n",
      " [255 255 255 ... 255 255 255]\n",
      " ...\n",
      " [255 255 255 ... 255 255 255]\n",
      " [255 255 255 ... 255 255 255]\n",
      " [255 255 255 ... 255 255 255]]\n"
     ]
    }
   ],
   "source": [
    "# Stap 1: Maak van kleurafbeelding een grijsafbeelding en toon deze.\n",
    "shapes = cv2.imread(\"../_afbeeldingen/vormen.png\")\n",
    "grijzeshapes = cv2.cvtColor(shapes, cv2.COLOR_BGR2GRAY)\n",
    "plt_imshow(\"grijsafbeelding\", grijzedriehoek)\n",
    "print(grijzeshapes)\n",
    "# Stap 2: Stel een drempelwaarde in op de grijsafbeelding en toon deze.\n",
    "_, threshold = cv2.threshold(grijzeshapes, 127, 255, cv2.THRESH_BINARY)\n",
    "plt_imshow(\"grijsafbeelding met drempel\", threshold)\n",
    "print(threshold)\n"
   ]
  },
  {
   "attachments": {},
   "cell_type": "markdown",
   "id": "e3cc0db4",
   "metadata": {},
   "source": [
    "<div style=\"margin-bottom:-35px;\">\n",
    "    <font color=#690027 markdown=\"1\">\n",
    "        <h3>5.4 Zijden opsporen</h3> \n",
    "    </font>\n",
    "</div>"
   ]
  },
  {
   "attachments": {},
   "cell_type": "markdown",
   "id": "b01174fc",
   "metadata": {},
   "source": [
    "De volgende stap is opsporen van de contouren die iedere vorm heeft. Hiervoor kunnen we een ingebouwde functie van opencv gebruiken.\n",
    "\n",
    "<div style=\"background-color:#8B0000\"> \n",
    "<b>Let Op!</b><br> de variabele <b>threshold</b> in onderstaande code, bevat de <b>grijsafbeelding an de driehoek</b>.<br> Pas deze variabele aan, naar degene die je in oefen mee 5.1 gebruikt hebt.\n",
    "</div>"
   ]
  },
  {
   "cell_type": "code",
   "execution_count": 19,
   "id": "00e1c055",
   "metadata": {},
   "outputs": [],
   "source": [
    "# functie die zijden zoekt\n",
    "#cv2. RETR_TREE vindt alle contourlijnen en rangschikt ze, met buitenste contouren bovenaan in lijst\n",
    "#cv2. CHAIN_APPROX_SIMPLE retourneert punten die nodig zijn om contourlijn te tekenen\n",
    "contours, _ = cv2.findContours(threshold, cv2.RETR_TREE, cv2.CHAIN_APPROX_SIMPLE)  "
   ]
  },
  {
   "attachments": {},
   "cell_type": "markdown",
   "id": "98aff73f",
   "metadata": {},
   "source": [
    "Tot slot zal er een functie, aan de hand van de contouren, het aantal zijden bepalen. Vervolgens wordt op basis van dit aantal zijden een label toegevoegd aan de figuur. Een figuur met 3 zijden krijgt zo dus het label **\"driehoek\"**.\n",
    "\n",
    "Voer de 2 onderstaande code-blokken uit om het resultaat van het algoritme te zien."
   ]
  },
  {
   "cell_type": "code",
   "execution_count": null,
   "id": "2a8772f1",
   "metadata": {},
   "outputs": [],
   "source": [
    "i = 0\n",
    "# lijst om alle vormnamen op te slaan\n",
    "for contour in contours:\n",
    "  \n",
    "    # findcontour detecteert hele afbeelding als een vorm\n",
    "    if i == 0:\n",
    "        i = 1\n",
    "        continue\n",
    "  \n",
    "    # functie om aantal zijden te berekenen\n",
    "    zijden = cv2.approxPolyDP(\n",
    "        contour, 0.01 * cv2.arcLength(contour, True), True)\n",
    "      \n",
    "    # functie om contouren rond elke vorm te tekenen\n",
    "    # -1 zorgt ervoor dat alle contouren getekend worden, 255 voor groene kleur, 5 lijndikte\n",
    "    cv2.drawContours(vormen, [contour],-1, (0, 255, 0), 5)\n",
    "  \n",
    "    # zoekt centrum van vorm (voor plakken van label)\n",
    "    M = cv2.moments(contour)\n",
    "    if M[\"m00\"] != 0.0:\n",
    "        x = int(M[\"m10\"]/M[\"m00\"])-35\n",
    "        y = int(M[\"m01\"]/M[\"m00\"])\n",
    "  \n",
    "    # zet correcte label op centrum van de vorm\n",
    "    if len(zijden) == 3:\n",
    "        cv2.putText(vormen, \"driehoek\", (x, y),\n",
    "                    cv2.FONT_HERSHEY_SIMPLEX, 0.5, (0, 0, 0), 2)\n",
    "  \n",
    "    elif len(zijden) == 4:\n",
    "        cv2.putText(vormen, \"parallellogram\", (x, y),\n",
    "                    cv2.FONT_HERSHEY_SIMPLEX, 0.5, (0, 0, 0), 2)\n",
    "  \n",
    "    elif len(zijden) == 5:\n",
    "        cv2.putText(vormen, \"vijfhoek\", (x, y),\n",
    "                    cv2.FONT_HERSHEY_SIMPLEX, 0.5, (0, 0, 0), 2)\n",
    "  \n",
    "    elif len(zijden) == 6:\n",
    "        cv2.putText(vormen, \"zeshoek\", (x, y),\n",
    "                    cv2.FONT_HERSHEY_SIMPLEX, 0.5, (0, 0, 0), 2)\n",
    "  \n",
    "    else:\n",
    "        cv2.putText(vormen, \"cirkel\", (x, y),\n",
    "                    cv2.FONT_HERSHEY_SIMPLEX, 0.5, (0, 0, 0), 2)\n",
    "  \n"
   ]
  },
  {
   "cell_type": "code",
   "execution_count": null,
   "id": "44de9c61",
   "metadata": {
    "scrolled": true
   },
   "outputs": [],
   "source": [
    "# weergeven van de afbeelding met de namen van de vorm\n",
    "plt_imshow(\"Vormen\", vormen)"
   ]
  },
  {
   "attachments": {},
   "cell_type": "markdown",
   "id": "d85fa688",
   "metadata": {},
   "source": [
    "Dit is één voorbeeld van een detectiealgoritme. Er zijn er heel veel en sommige werken beter dan andere. Zoals al aangehaald is dit algoritme zeer simplistisch. Het geeft je echter een goede basis van wat objectdetectie inhoudt.\n",
    "   "
   ]
  },
  {
   "attachments": {},
   "cell_type": "markdown",
   "id": "d70cea67",
   "metadata": {},
   "source": [
    "<div style=\"background-color:#013220\">\n",
    "Proficiat, je hebt jouw eerste detectiealgoritme gemaakt. Deze kan op basis van het aantal zijden de vorm van een figuur bepalen.\n",
    "</div>"
   ]
  },
  {
   "attachments": {},
   "cell_type": "markdown",
   "id": "749c5e6b",
   "metadata": {},
   "source": [
    "  <a href=\"https://www.aiopschool.be/dwengo/\"> \n",
    "        <img src=\"../_afbeeldingen/bannerugentdwengo.png\" alt=\"Dwengo\" style =\"display: block; margin-left: auto; margin-right: auto; margin-bottom: 30px; width:20%\"/>\n",
    "    </a>\n",
    "\n",
    "Deze Notebook is gebaseerd op: Notebook AI in de landbouw, zie <a href=\"http://www.aiopschool.be\">AI Op School</a>, van M. Benoit, F. wyffels & N. Gesquière is in licentie gegeven volgens een <a href=\"http://creativecommons.org/licenses/by-nc-sa/4.0/\">Creative Commons Naamsvermelding-NietCommercieel-GelijkDelen 4.0 Internationaal-licentie</a>. "
   ]
  }
 ],
 "metadata": {
  "kernelspec": {
   "display_name": "Python 3",
   "language": "python",
   "name": "python3"
  },
  "language_info": {
   "codemirror_mode": {
    "name": "ipython",
    "version": 3
   },
   "file_extension": ".py",
   "mimetype": "text/x-python",
   "name": "python",
   "nbconvert_exporter": "python",
   "pygments_lexer": "ipython3",
   "version": "3.11.0"
  },
  "vscode": {
   "interpreter": {
    "hash": "50da9237890665c4483b3ad427755173b425d1aee104481143f24ce6d05fb39d"
   }
  }
 },
 "nbformat": 4,
 "nbformat_minor": 5
}
