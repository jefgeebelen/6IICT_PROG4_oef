{
 "cells": [
  {
   "attachments": {},
   "cell_type": "markdown",
   "metadata": {},
   "source": [
    "<div style=\"margin-bottom:-35px;\">\n",
    "    <font color=#690027 markdown=\"1\">\n",
    "        <h1> <center> Gebaseerd op een cursus van:</center> </h1> \n",
    "    </font>\n",
    "    <a href=\"https://www.aiopschool.be/chatbot/\"> \n",
    "        <img src=\"../_afbeeldingen/bannerugentdwengo.png\" alt=\"Dwengo\" style =\"display: block; margin-left: auto; margin-right: auto; margin-bottom: 30px; width:20%\"/>\n",
    "    </a>\n",
    "</div>"
   ]
  },
  {
   "attachments": {},
   "cell_type": "markdown",
   "metadata": {},
   "source": [
    "<div style=\"margin-bottom:-35px;\">\n",
    "    <font color=#690027 markdown=\"1\">\n",
    "        <h1>1. ML-Model voor Sentimentanalyse</h1> \n",
    "    </font>\n",
    "</div>"
   ]
  },
  {
   "attachments": {},
   "cell_type": "markdown",
   "metadata": {},
   "source": [
    "<div style=\"background-color:#013220\">\n",
    "In deze Notebook zal je bij gegeven teksten (de data) onderzoek doen naar sentimentwoorden. Je zal hier een ML-model gebruiken om de vervelende stappen uit de vorige Notebook te automatiseren. <br><br> Dit model is getraind met geannoteerde (gelabelde) teksten en kan met grote nauwkeurigheid een tekst <b>tokeniseren</b> en van elk token de <b>woordsoort tag</b> en het <b>lemma</b> bepalen. <br><br> Tenslotte gebruikt een <em>regelgebaseerd systeem</em> deze <b> tags en lemmas</b> om het sentiment van de tekst te bepalen. \n",
    "</div>"
   ]
  },
  {
   "attachments": {},
   "cell_type": "markdown",
   "metadata": {},
   "source": [
    "In de vorige notebook, 'Regelgebaseerde sentimentanalyse', maakte je kennis met de principes van een regelgebaseerde sentimentanalyse: \n",
    "\n",
    " -  Je maakt gebruik van een **lexicon** of woordenboek met daarin woorden gekoppeld aan hun **sentiment** (positief, negatief of neutraal).\n",
    " -  Voor je sentimentwoorden uit een lexicon kunt matchen met de gegeven tekst moet je deze tekst inlezen en **voorverwerken (preprocessing)**. Veelvoorkomende preprocessing stappen zijn **lowercasing**, **tokenisering**, **woordsoort tagging** en  **lemmatisering**.\n",
    " \n",
    "In de vorige notebook waren nog niet alle stappen geautomatiseerd. Lemmatisering en woordsoort tagging moesten manueel gebeuren. Zoals te zien is op onderstaand stappenplan."
   ]
  },
  {
   "attachments": {},
   "cell_type": "markdown",
   "metadata": {},
   "source": [
    "<div>\n",
    "<img src=\"../_afbeeldingen/AI_sentiment.png\" alt=\"Banner\" style =\"display: block; margin-left: auto; margin-right: auto; margin-bottom: 10px; width:80%\"/>\n",
    "</div>"
   ]
  },
  {
   "attachments": {},
   "cell_type": "markdown",
   "metadata": {},
   "source": [
    "<div class=\"alert alert-box alert-success\">\n",
    "In deze notebook zal je de uitvoer van de sentimentanalyse volledig <b>automatiseren</b>. Je zal m.a.w. de computer het werk laten doen: de computer zal de data preprocessen (voorverwerken) met een <em>machine learning-model (ML-model)</em>, en met een <em>regelgebaseerd AI-systeem</em> de <b>lemmas</b> matchen met het gegeven lexicon. Tenslotte neemt de AI op basis van de score een beslissing over het sentiment van de gegeven tekst. Onderstaand stappenplan toont het nieuwe proces.\n",
    "</div>"
   ]
  },
  {
   "attachments": {},
   "cell_type": "markdown",
   "metadata": {},
   "source": [
    "<div>\n",
    "<img src=\"../_afbeeldingen/ML_sentiment.png\" alt=\"Banner\" style =\"display: block; margin-left: auto; margin-right: auto; margin-bottom: 10px; width:80%\"/>\n",
    "</div>"
   ]
  },
  {
   "attachments": {},
   "cell_type": "markdown",
   "metadata": {},
   "source": [
    "<div style='color: #690027;margin-bottom:-35px;'>\n",
    "    <h2>2. Modules installeren & importeren</h2> \n",
    "</div>"
   ]
  },
  {
   "attachments": {},
   "cell_type": "markdown",
   "metadata": {},
   "source": [
    "<div style=\"margin-bottom:-35px;\">\n",
    "    <font color=#690027 markdown=\"1\">\n",
    "        <h3>2.1 Installeren ML-model spacy</h3> \n",
    "    </font>\n",
    "</div>\n"
   ]
  },
  {
   "attachments": {},
   "cell_type": "markdown",
   "metadata": {},
   "source": [
    "Voor het **tokeniseren**, **taggen** en **lemmatiseren** wordt beroep gedaan op <a href=\"https://spacy.io/\">**spacy**</a>. Dit is een **Natural Language Processer (NLP)** met als doel het herkennen van woorden. Dit voor talen als Engels, Frans, Nederlands, ... <br><br>Vooraleer we **spacy** kunnen gebruiken, moeten we deze eerst installeren in Python."
   ]
  },
  {
   "attachments": {},
   "cell_type": "markdown",
   "metadata": {},
   "source": [
    "Doorloop volgende code-cellen om de woordsoort tagging toe te passen op ieder token.\n",
    "<div style=\"background-color:#8B0000\"> \n",
    "Wees zeker dat je rechtsboven in de juiste environment zit vooraleer spacy te installeren.\n",
    "</div>"
   ]
  },
  {
   "cell_type": "code",
   "execution_count": 9,
   "metadata": {},
   "outputs": [
    {
     "name": "stdout",
     "output_type": "stream",
     "text": [
      "Requirement already satisfied: spacy in c:\\users\\geje051205\\appdata\\local\\programs\\python\\python311\\lib\\site-packages (3.5.0)\n",
      "Requirement already satisfied: spacy-legacy<3.1.0,>=3.0.11 in c:\\users\\geje051205\\appdata\\local\\programs\\python\\python311\\lib\\site-packages (from spacy) (3.0.12)\n",
      "Requirement already satisfied: spacy-loggers<2.0.0,>=1.0.0 in c:\\users\\geje051205\\appdata\\local\\programs\\python\\python311\\lib\\site-packages (from spacy) (1.0.4)\n",
      "Requirement already satisfied: murmurhash<1.1.0,>=0.28.0 in c:\\users\\geje051205\\appdata\\local\\programs\\python\\python311\\lib\\site-packages (from spacy) (1.0.9)\n",
      "Requirement already satisfied: cymem<2.1.0,>=2.0.2 in c:\\users\\geje051205\\appdata\\local\\programs\\python\\python311\\lib\\site-packages (from spacy) (2.0.7)\n",
      "Requirement already satisfied: preshed<3.1.0,>=3.0.2 in c:\\users\\geje051205\\appdata\\local\\programs\\python\\python311\\lib\\site-packages (from spacy) (3.0.8)\n",
      "Requirement already satisfied: thinc<8.2.0,>=8.1.0 in c:\\users\\geje051205\\appdata\\local\\programs\\python\\python311\\lib\\site-packages (from spacy) (8.1.7)\n",
      "Requirement already satisfied: wasabi<1.2.0,>=0.9.1 in c:\\users\\geje051205\\appdata\\local\\programs\\python\\python311\\lib\\site-packages (from spacy) (1.1.1)\n",
      "Requirement already satisfied: srsly<3.0.0,>=2.4.3 in c:\\users\\geje051205\\appdata\\local\\programs\\python\\python311\\lib\\site-packages (from spacy) (2.4.5)\n",
      "Requirement already satisfied: catalogue<2.1.0,>=2.0.6 in c:\\users\\geje051205\\appdata\\local\\programs\\python\\python311\\lib\\site-packages (from spacy) (2.0.8)\n",
      "Requirement already satisfied: typer<0.8.0,>=0.3.0 in c:\\users\\geje051205\\appdata\\local\\programs\\python\\python311\\lib\\site-packages (from spacy) (0.7.0)\n",
      "Requirement already satisfied: pathy>=0.10.0 in c:\\users\\geje051205\\appdata\\local\\programs\\python\\python311\\lib\\site-packages (from spacy) (0.10.1)\n",
      "Requirement already satisfied: smart-open<7.0.0,>=5.2.1 in c:\\users\\geje051205\\appdata\\local\\programs\\python\\python311\\lib\\site-packages (from spacy) (6.3.0)\n",
      "Requirement already satisfied: tqdm<5.0.0,>=4.38.0 in c:\\users\\geje051205\\appdata\\local\\programs\\python\\python311\\lib\\site-packages (from spacy) (4.64.1)\n",
      "Requirement already satisfied: numpy>=1.15.0 in c:\\users\\geje051205\\appdata\\local\\programs\\python\\python311\\lib\\site-packages (from spacy) (1.24.1)\n",
      "Requirement already satisfied: requests<3.0.0,>=2.13.0 in c:\\users\\geje051205\\appdata\\local\\programs\\python\\python311\\lib\\site-packages (from spacy) (2.28.2)\n",
      "Requirement already satisfied: pydantic!=1.8,!=1.8.1,<1.11.0,>=1.7.4 in c:\\users\\geje051205\\appdata\\local\\programs\\python\\python311\\lib\\site-packages (from spacy) (1.10.4)\n",
      "Requirement already satisfied: jinja2 in c:\\users\\geje051205\\appdata\\local\\programs\\python\\python311\\lib\\site-packages (from spacy) (3.1.2)\n",
      "Requirement already satisfied: setuptools in c:\\users\\geje051205\\appdata\\local\\programs\\python\\python311\\lib\\site-packages (from spacy) (58.0.0)\n",
      "Requirement already satisfied: packaging>=20.0 in c:\\users\\geje051205\\appdata\\local\\programs\\python\\python311\\lib\\site-packages (from spacy) (23.0)\n",
      "Requirement already satisfied: langcodes<4.0.0,>=3.2.0 in c:\\users\\geje051205\\appdata\\local\\programs\\python\\python311\\lib\\site-packages (from spacy) (3.3.0)\n",
      "Requirement already satisfied: typing-extensions>=4.2.0 in c:\\users\\geje051205\\appdata\\local\\programs\\python\\python311\\lib\\site-packages (from pydantic!=1.8,!=1.8.1,<1.11.0,>=1.7.4->spacy) (4.4.0)\n",
      "Requirement already satisfied: charset-normalizer<4,>=2 in c:\\users\\geje051205\\appdata\\local\\programs\\python\\python311\\lib\\site-packages (from requests<3.0.0,>=2.13.0->spacy) (3.0.1)\n",
      "Requirement already satisfied: idna<4,>=2.5 in c:\\users\\geje051205\\appdata\\local\\programs\\python\\python311\\lib\\site-packages (from requests<3.0.0,>=2.13.0->spacy) (3.4)\n",
      "Requirement already satisfied: urllib3<1.27,>=1.21.1 in c:\\users\\geje051205\\appdata\\local\\programs\\python\\python311\\lib\\site-packages (from requests<3.0.0,>=2.13.0->spacy) (1.26.14)\n",
      "Requirement already satisfied: certifi>=2017.4.17 in c:\\users\\geje051205\\appdata\\local\\programs\\python\\python311\\lib\\site-packages (from requests<3.0.0,>=2.13.0->spacy) (2022.12.7)\n",
      "Requirement already satisfied: blis<0.8.0,>=0.7.8 in c:\\users\\geje051205\\appdata\\local\\programs\\python\\python311\\lib\\site-packages (from thinc<8.2.0,>=8.1.0->spacy) (0.7.9)\n",
      "Requirement already satisfied: confection<1.0.0,>=0.0.1 in c:\\users\\geje051205\\appdata\\local\\programs\\python\\python311\\lib\\site-packages (from thinc<8.2.0,>=8.1.0->spacy) (0.0.4)\n",
      "Requirement already satisfied: colorama in c:\\users\\geje051205\\appdata\\local\\programs\\python\\python311\\lib\\site-packages (from tqdm<5.0.0,>=4.38.0->spacy) (0.4.6)\n",
      "Requirement already satisfied: click<9.0.0,>=7.1.1 in c:\\users\\geje051205\\appdata\\local\\programs\\python\\python311\\lib\\site-packages (from typer<0.8.0,>=0.3.0->spacy) (8.1.3)\n",
      "Requirement already satisfied: MarkupSafe>=2.0 in c:\\users\\geje051205\\appdata\\local\\programs\\python\\python311\\lib\\site-packages (from jinja2->spacy) (2.1.2)\n",
      "Collecting nl-core-news-sm==3.5.0\n",
      "  Downloading https://github.com/explosion/spacy-models/releases/download/nl_core_news_sm-3.5.0/nl_core_news_sm-3.5.0-py3-none-any.whl (12.8 MB)\n",
      "     ---------------------------------------- 0.0/12.8 MB ? eta -:--:--\n",
      "     ---------------------------------------- 0.1/12.8 MB 2.3 MB/s eta 0:00:06\n",
      "      --------------------------------------- 0.2/12.8 MB 2.4 MB/s eta 0:00:06\n",
      "      --------------------------------------- 0.3/12.8 MB 2.4 MB/s eta 0:00:06\n",
      "     - -------------------------------------- 0.4/12.8 MB 2.3 MB/s eta 0:00:06\n",
      "     - -------------------------------------- 0.5/12.8 MB 2.4 MB/s eta 0:00:06\n",
      "     - -------------------------------------- 0.6/12.8 MB 2.3 MB/s eta 0:00:06\n",
      "     -- ------------------------------------- 0.7/12.8 MB 2.3 MB/s eta 0:00:06\n",
      "     -- ------------------------------------- 0.8/12.8 MB 2.4 MB/s eta 0:00:06\n",
      "     -- ------------------------------------- 0.9/12.8 MB 2.4 MB/s eta 0:00:06\n",
      "     --- ------------------------------------ 1.0/12.8 MB 2.3 MB/s eta 0:00:06\n",
      "     --- ------------------------------------ 1.1/12.8 MB 2.3 MB/s eta 0:00:05\n",
      "     --- ------------------------------------ 1.2/12.8 MB 2.3 MB/s eta 0:00:06\n",
      "     ---- ----------------------------------- 1.4/12.8 MB 2.3 MB/s eta 0:00:05\n",
      "     ---- ----------------------------------- 1.5/12.8 MB 2.3 MB/s eta 0:00:05\n",
      "     ---- ----------------------------------- 1.6/12.8 MB 2.3 MB/s eta 0:00:05\n",
      "     ----- ---------------------------------- 1.7/12.8 MB 2.3 MB/s eta 0:00:05\n",
      "     ----- ---------------------------------- 1.8/12.8 MB 2.3 MB/s eta 0:00:05\n",
      "     ----- ---------------------------------- 1.9/12.8 MB 2.3 MB/s eta 0:00:05\n",
      "     ------ --------------------------------- 2.0/12.8 MB 2.3 MB/s eta 0:00:05\n",
      "     ------ --------------------------------- 2.0/12.8 MB 2.2 MB/s eta 0:00:05\n",
      "     ------ --------------------------------- 2.2/12.8 MB 2.3 MB/s eta 0:00:05\n",
      "     ------- -------------------------------- 2.3/12.8 MB 2.3 MB/s eta 0:00:05\n",
      "     ------- -------------------------------- 2.4/12.8 MB 2.3 MB/s eta 0:00:05\n",
      "     ------- -------------------------------- 2.5/12.8 MB 2.3 MB/s eta 0:00:05\n",
      "     -------- ------------------------------- 2.6/12.8 MB 2.3 MB/s eta 0:00:05\n",
      "     -------- ------------------------------- 2.7/12.8 MB 2.3 MB/s eta 0:00:05\n",
      "     -------- ------------------------------- 2.8/12.8 MB 2.3 MB/s eta 0:00:05\n",
      "     --------- ------------------------------ 2.9/12.8 MB 2.3 MB/s eta 0:00:05\n",
      "     --------- ------------------------------ 3.0/12.8 MB 2.3 MB/s eta 0:00:05\n",
      "     --------- ------------------------------ 3.1/12.8 MB 2.3 MB/s eta 0:00:05\n",
      "     ---------- ----------------------------- 3.2/12.8 MB 2.3 MB/s eta 0:00:05\n",
      "     ---------- ----------------------------- 3.3/12.8 MB 2.3 MB/s eta 0:00:05\n",
      "     ---------- ----------------------------- 3.5/12.8 MB 2.3 MB/s eta 0:00:05\n",
      "     ----------- ---------------------------- 3.6/12.8 MB 2.3 MB/s eta 0:00:05\n",
      "     ----------- ---------------------------- 3.7/12.8 MB 2.3 MB/s eta 0:00:05\n",
      "     ----------- ---------------------------- 3.8/12.8 MB 2.3 MB/s eta 0:00:04\n",
      "     ------------ --------------------------- 3.9/12.8 MB 2.3 MB/s eta 0:00:04\n",
      "     ------------ --------------------------- 4.0/12.8 MB 2.3 MB/s eta 0:00:04\n",
      "     ------------ --------------------------- 4.1/12.8 MB 2.3 MB/s eta 0:00:04\n",
      "     ------------- -------------------------- 4.2/12.8 MB 2.3 MB/s eta 0:00:04\n",
      "     ------------- -------------------------- 4.3/12.8 MB 2.3 MB/s eta 0:00:04\n",
      "     ------------- -------------------------- 4.4/12.8 MB 2.3 MB/s eta 0:00:04\n",
      "     ------------- -------------------------- 4.5/12.8 MB 2.3 MB/s eta 0:00:04\n",
      "     -------------- ------------------------- 4.6/12.8 MB 2.3 MB/s eta 0:00:04\n",
      "     -------------- ------------------------- 4.7/12.8 MB 2.3 MB/s eta 0:00:04\n",
      "     --------------- ------------------------ 4.8/12.8 MB 2.3 MB/s eta 0:00:04\n",
      "     --------------- ------------------------ 4.9/12.8 MB 2.3 MB/s eta 0:00:04\n",
      "     --------------- ------------------------ 5.0/12.8 MB 2.3 MB/s eta 0:00:04\n",
      "     ---------------- ----------------------- 5.1/12.8 MB 2.3 MB/s eta 0:00:04\n",
      "     ---------------- ----------------------- 5.2/12.8 MB 2.3 MB/s eta 0:00:04\n",
      "     ---------------- ----------------------- 5.4/12.8 MB 2.3 MB/s eta 0:00:04\n",
      "     ---------------- ----------------------- 5.4/12.8 MB 2.3 MB/s eta 0:00:04\n",
      "     ----------------- ---------------------- 5.6/12.8 MB 2.3 MB/s eta 0:00:04\n",
      "     ----------------- ---------------------- 5.7/12.8 MB 2.3 MB/s eta 0:00:04\n",
      "     ------------------ --------------------- 5.8/12.8 MB 2.3 MB/s eta 0:00:04\n",
      "     ------------------ --------------------- 5.9/12.8 MB 2.3 MB/s eta 0:00:04\n",
      "     ------------------ --------------------- 6.0/12.8 MB 2.3 MB/s eta 0:00:04\n",
      "     ------------------ --------------------- 6.1/12.8 MB 2.3 MB/s eta 0:00:03\n",
      "     ------------------- -------------------- 6.2/12.8 MB 2.3 MB/s eta 0:00:03\n",
      "     ------------------- -------------------- 6.3/12.8 MB 2.3 MB/s eta 0:00:03\n",
      "     ------------------- -------------------- 6.4/12.8 MB 2.3 MB/s eta 0:00:03\n",
      "     -------------------- ------------------- 6.5/12.8 MB 2.3 MB/s eta 0:00:03\n",
      "     -------------------- ------------------- 6.6/12.8 MB 2.3 MB/s eta 0:00:03\n",
      "     -------------------- ------------------- 6.7/12.8 MB 2.3 MB/s eta 0:00:03\n",
      "     --------------------- ------------------ 6.8/12.8 MB 2.3 MB/s eta 0:00:03\n",
      "     --------------------- ------------------ 6.9/12.8 MB 2.3 MB/s eta 0:00:03\n",
      "     --------------------- ------------------ 7.0/12.8 MB 2.3 MB/s eta 0:00:03\n",
      "     ---------------------- ----------------- 7.1/12.8 MB 2.3 MB/s eta 0:00:03\n",
      "     ---------------------- ----------------- 7.2/12.8 MB 2.3 MB/s eta 0:00:03\n",
      "     ---------------------- ----------------- 7.3/12.8 MB 2.3 MB/s eta 0:00:03\n",
      "     ----------------------- ---------------- 7.4/12.8 MB 2.3 MB/s eta 0:00:03\n",
      "     ----------------------- ---------------- 7.5/12.8 MB 2.3 MB/s eta 0:00:03\n",
      "     ----------------------- ---------------- 7.6/12.8 MB 2.3 MB/s eta 0:00:03\n",
      "     ------------------------ --------------- 7.7/12.8 MB 2.3 MB/s eta 0:00:03\n",
      "     ------------------------ --------------- 7.9/12.8 MB 2.3 MB/s eta 0:00:03\n",
      "     ------------------------ --------------- 8.0/12.8 MB 2.3 MB/s eta 0:00:03\n",
      "     ------------------------- -------------- 8.1/12.8 MB 2.3 MB/s eta 0:00:03\n",
      "     ------------------------- -------------- 8.2/12.8 MB 2.3 MB/s eta 0:00:03\n",
      "     ------------------------- -------------- 8.3/12.8 MB 2.3 MB/s eta 0:00:02\n",
      "     -------------------------- ------------- 8.4/12.8 MB 2.3 MB/s eta 0:00:02\n",
      "     -------------------------- ------------- 8.5/12.8 MB 2.3 MB/s eta 0:00:02\n",
      "     -------------------------- ------------- 8.6/12.8 MB 2.3 MB/s eta 0:00:02\n",
      "     --------------------------- ------------ 8.7/12.8 MB 2.3 MB/s eta 0:00:02\n",
      "     --------------------------- ------------ 8.8/12.8 MB 2.3 MB/s eta 0:00:02\n",
      "     --------------------------- ------------ 8.9/12.8 MB 2.3 MB/s eta 0:00:02\n",
      "     ---------------------------- ----------- 9.0/12.8 MB 2.3 MB/s eta 0:00:02\n",
      "     ---------------------------- ----------- 9.1/12.8 MB 2.3 MB/s eta 0:00:02\n",
      "     ---------------------------- ----------- 9.2/12.8 MB 2.3 MB/s eta 0:00:02\n",
      "     ----------------------------- ---------- 9.3/12.8 MB 2.3 MB/s eta 0:00:02\n",
      "     ----------------------------- ---------- 9.4/12.8 MB 2.3 MB/s eta 0:00:02\n",
      "     ----------------------------- ---------- 9.5/12.8 MB 2.3 MB/s eta 0:00:02\n",
      "     ------------------------------ --------- 9.6/12.8 MB 2.3 MB/s eta 0:00:02\n",
      "     ------------------------------ --------- 9.7/12.8 MB 2.3 MB/s eta 0:00:02\n",
      "     ------------------------------ --------- 9.8/12.8 MB 2.3 MB/s eta 0:00:02\n",
      "     ------------------------------ --------- 9.9/12.8 MB 2.3 MB/s eta 0:00:02\n",
      "     ------------------------------- -------- 10.1/12.8 MB 2.3 MB/s eta 0:00:02\n",
      "     ------------------------------- -------- 10.1/12.8 MB 2.3 MB/s eta 0:00:02\n",
      "     -------------------------------- ------- 10.3/12.8 MB 2.3 MB/s eta 0:00:02\n",
      "     -------------------------------- ------- 10.4/12.8 MB 2.3 MB/s eta 0:00:02\n",
      "     -------------------------------- ------- 10.5/12.8 MB 2.3 MB/s eta 0:00:02\n",
      "     --------------------------------- ------ 10.6/12.8 MB 2.3 MB/s eta 0:00:01\n",
      "     --------------------------------- ------ 10.7/12.8 MB 2.3 MB/s eta 0:00:01\n",
      "     --------------------------------- ------ 10.8/12.8 MB 2.3 MB/s eta 0:00:01\n",
      "     ---------------------------------- ----- 10.9/12.8 MB 2.3 MB/s eta 0:00:01\n",
      "     ---------------------------------- ----- 11.0/12.8 MB 2.3 MB/s eta 0:00:01\n",
      "     ---------------------------------- ----- 11.1/12.8 MB 2.3 MB/s eta 0:00:01\n",
      "     ----------------------------------- ---- 11.3/12.8 MB 2.3 MB/s eta 0:00:01\n",
      "     ----------------------------------- ---- 11.3/12.8 MB 2.3 MB/s eta 0:00:01\n",
      "     ----------------------------------- ---- 11.4/12.8 MB 2.3 MB/s eta 0:00:01\n",
      "     ------------------------------------ --- 11.6/12.8 MB 2.3 MB/s eta 0:00:01\n",
      "     ------------------------------------ --- 11.7/12.8 MB 2.3 MB/s eta 0:00:01\n",
      "     ------------------------------------ --- 11.8/12.8 MB 2.3 MB/s eta 0:00:01\n",
      "     ------------------------------------- -- 11.9/12.8 MB 2.3 MB/s eta 0:00:01\n",
      "     ------------------------------------- -- 12.0/12.8 MB 2.3 MB/s eta 0:00:01\n",
      "     ------------------------------------- -- 12.1/12.8 MB 2.3 MB/s eta 0:00:01\n",
      "     ------------------------------------- -- 12.2/12.8 MB 2.3 MB/s eta 0:00:01\n",
      "     -------------------------------------- - 12.3/12.8 MB 2.3 MB/s eta 0:00:01\n",
      "     -------------------------------------- - 12.4/12.8 MB 2.3 MB/s eta 0:00:01\n",
      "     -------------------------------------- - 12.5/12.8 MB 2.3 MB/s eta 0:00:01\n",
      "     ---------------------------------------  12.6/12.8 MB 2.3 MB/s eta 0:00:01\n",
      "     ---------------------------------------  12.7/12.8 MB 2.3 MB/s eta 0:00:01\n",
      "     ---------------------------------------  12.8/12.8 MB 2.3 MB/s eta 0:00:01\n",
      "     ---------------------------------------- 12.8/12.8 MB 2.3 MB/s eta 0:00:00\n",
      "Requirement already satisfied: spacy<3.6.0,>=3.5.0 in c:\\users\\geje051205\\appdata\\local\\programs\\python\\python311\\lib\\site-packages (from nl-core-news-sm==3.5.0) (3.5.0)\n",
      "Requirement already satisfied: spacy-legacy<3.1.0,>=3.0.11 in c:\\users\\geje051205\\appdata\\local\\programs\\python\\python311\\lib\\site-packages (from spacy<3.6.0,>=3.5.0->nl-core-news-sm==3.5.0) (3.0.12)\n",
      "Requirement already satisfied: spacy-loggers<2.0.0,>=1.0.0 in c:\\users\\geje051205\\appdata\\local\\programs\\python\\python311\\lib\\site-packages (from spacy<3.6.0,>=3.5.0->nl-core-news-sm==3.5.0) (1.0.4)\n",
      "Requirement already satisfied: murmurhash<1.1.0,>=0.28.0 in c:\\users\\geje051205\\appdata\\local\\programs\\python\\python311\\lib\\site-packages (from spacy<3.6.0,>=3.5.0->nl-core-news-sm==3.5.0) (1.0.9)\n",
      "Requirement already satisfied: cymem<2.1.0,>=2.0.2 in c:\\users\\geje051205\\appdata\\local\\programs\\python\\python311\\lib\\site-packages (from spacy<3.6.0,>=3.5.0->nl-core-news-sm==3.5.0) (2.0.7)\n",
      "Requirement already satisfied: preshed<3.1.0,>=3.0.2 in c:\\users\\geje051205\\appdata\\local\\programs\\python\\python311\\lib\\site-packages (from spacy<3.6.0,>=3.5.0->nl-core-news-sm==3.5.0) (3.0.8)\n",
      "Requirement already satisfied: thinc<8.2.0,>=8.1.0 in c:\\users\\geje051205\\appdata\\local\\programs\\python\\python311\\lib\\site-packages (from spacy<3.6.0,>=3.5.0->nl-core-news-sm==3.5.0) (8.1.7)\n",
      "Requirement already satisfied: wasabi<1.2.0,>=0.9.1 in c:\\users\\geje051205\\appdata\\local\\programs\\python\\python311\\lib\\site-packages (from spacy<3.6.0,>=3.5.0->nl-core-news-sm==3.5.0) (1.1.1)\n",
      "Requirement already satisfied: srsly<3.0.0,>=2.4.3 in c:\\users\\geje051205\\appdata\\local\\programs\\python\\python311\\lib\\site-packages (from spacy<3.6.0,>=3.5.0->nl-core-news-sm==3.5.0) (2.4.5)\n",
      "Requirement already satisfied: catalogue<2.1.0,>=2.0.6 in c:\\users\\geje051205\\appdata\\local\\programs\\python\\python311\\lib\\site-packages (from spacy<3.6.0,>=3.5.0->nl-core-news-sm==3.5.0) (2.0.8)\n",
      "Requirement already satisfied: typer<0.8.0,>=0.3.0 in c:\\users\\geje051205\\appdata\\local\\programs\\python\\python311\\lib\\site-packages (from spacy<3.6.0,>=3.5.0->nl-core-news-sm==3.5.0) (0.7.0)\n",
      "Requirement already satisfied: pathy>=0.10.0 in c:\\users\\geje051205\\appdata\\local\\programs\\python\\python311\\lib\\site-packages (from spacy<3.6.0,>=3.5.0->nl-core-news-sm==3.5.0) (0.10.1)\n",
      "Requirement already satisfied: smart-open<7.0.0,>=5.2.1 in c:\\users\\geje051205\\appdata\\local\\programs\\python\\python311\\lib\\site-packages (from spacy<3.6.0,>=3.5.0->nl-core-news-sm==3.5.0) (6.3.0)\n",
      "Requirement already satisfied: tqdm<5.0.0,>=4.38.0 in c:\\users\\geje051205\\appdata\\local\\programs\\python\\python311\\lib\\site-packages (from spacy<3.6.0,>=3.5.0->nl-core-news-sm==3.5.0) (4.64.1)\n",
      "Requirement already satisfied: numpy>=1.15.0 in c:\\users\\geje051205\\appdata\\local\\programs\\python\\python311\\lib\\site-packages (from spacy<3.6.0,>=3.5.0->nl-core-news-sm==3.5.0) (1.24.1)\n",
      "Requirement already satisfied: requests<3.0.0,>=2.13.0 in c:\\users\\geje051205\\appdata\\local\\programs\\python\\python311\\lib\\site-packages (from spacy<3.6.0,>=3.5.0->nl-core-news-sm==3.5.0) (2.28.2)\n",
      "Requirement already satisfied: pydantic!=1.8,!=1.8.1,<1.11.0,>=1.7.4 in c:\\users\\geje051205\\appdata\\local\\programs\\python\\python311\\lib\\site-packages (from spacy<3.6.0,>=3.5.0->nl-core-news-sm==3.5.0) (1.10.4)\n",
      "Requirement already satisfied: jinja2 in c:\\users\\geje051205\\appdata\\local\\programs\\python\\python311\\lib\\site-packages (from spacy<3.6.0,>=3.5.0->nl-core-news-sm==3.5.0) (3.1.2)\n",
      "Requirement already satisfied: setuptools in c:\\users\\geje051205\\appdata\\local\\programs\\python\\python311\\lib\\site-packages (from spacy<3.6.0,>=3.5.0->nl-core-news-sm==3.5.0) (58.0.0)\n",
      "Requirement already satisfied: packaging>=20.0 in c:\\users\\geje051205\\appdata\\local\\programs\\python\\python311\\lib\\site-packages (from spacy<3.6.0,>=3.5.0->nl-core-news-sm==3.5.0) (23.0)\n",
      "Requirement already satisfied: langcodes<4.0.0,>=3.2.0 in c:\\users\\geje051205\\appdata\\local\\programs\\python\\python311\\lib\\site-packages (from spacy<3.6.0,>=3.5.0->nl-core-news-sm==3.5.0) (3.3.0)\n",
      "Requirement already satisfied: typing-extensions>=4.2.0 in c:\\users\\geje051205\\appdata\\local\\programs\\python\\python311\\lib\\site-packages (from pydantic!=1.8,!=1.8.1,<1.11.0,>=1.7.4->spacy<3.6.0,>=3.5.0->nl-core-news-sm==3.5.0) (4.4.0)\n",
      "Requirement already satisfied: charset-normalizer<4,>=2 in c:\\users\\geje051205\\appdata\\local\\programs\\python\\python311\\lib\\site-packages (from requests<3.0.0,>=2.13.0->spacy<3.6.0,>=3.5.0->nl-core-news-sm==3.5.0) (3.0.1)\n",
      "Requirement already satisfied: idna<4,>=2.5 in c:\\users\\geje051205\\appdata\\local\\programs\\python\\python311\\lib\\site-packages (from requests<3.0.0,>=2.13.0->spacy<3.6.0,>=3.5.0->nl-core-news-sm==3.5.0) (3.4)\n",
      "Requirement already satisfied: urllib3<1.27,>=1.21.1 in c:\\users\\geje051205\\appdata\\local\\programs\\python\\python311\\lib\\site-packages (from requests<3.0.0,>=2.13.0->spacy<3.6.0,>=3.5.0->nl-core-news-sm==3.5.0) (1.26.14)\n",
      "Requirement already satisfied: certifi>=2017.4.17 in c:\\users\\geje051205\\appdata\\local\\programs\\python\\python311\\lib\\site-packages (from requests<3.0.0,>=2.13.0->spacy<3.6.0,>=3.5.0->nl-core-news-sm==3.5.0) (2022.12.7)\n",
      "Requirement already satisfied: blis<0.8.0,>=0.7.8 in c:\\users\\geje051205\\appdata\\local\\programs\\python\\python311\\lib\\site-packages (from thinc<8.2.0,>=8.1.0->spacy<3.6.0,>=3.5.0->nl-core-news-sm==3.5.0) (0.7.9)\n",
      "Requirement already satisfied: confection<1.0.0,>=0.0.1 in c:\\users\\geje051205\\appdata\\local\\programs\\python\\python311\\lib\\site-packages (from thinc<8.2.0,>=8.1.0->spacy<3.6.0,>=3.5.0->nl-core-news-sm==3.5.0) (0.0.4)\n",
      "Requirement already satisfied: colorama in c:\\users\\geje051205\\appdata\\local\\programs\\python\\python311\\lib\\site-packages (from tqdm<5.0.0,>=4.38.0->spacy<3.6.0,>=3.5.0->nl-core-news-sm==3.5.0) (0.4.6)\n",
      "Requirement already satisfied: click<9.0.0,>=7.1.1 in c:\\users\\geje051205\\appdata\\local\\programs\\python\\python311\\lib\\site-packages (from typer<0.8.0,>=0.3.0->spacy<3.6.0,>=3.5.0->nl-core-news-sm==3.5.0) (8.1.3)\n",
      "Requirement already satisfied: MarkupSafe>=2.0 in c:\\users\\geje051205\\appdata\\local\\programs\\python\\python311\\lib\\site-packages (from jinja2->spacy<3.6.0,>=3.5.0->nl-core-news-sm==3.5.0) (2.1.2)\n",
      "Installing collected packages: nl-core-news-sm\n",
      "Successfully installed nl-core-news-sm-3.5.0\n",
      "\u001b[38;5;2m✔ Download and installation successful\u001b[0m\n",
      "You can now load the package via spacy.load('nl_core_news_sm')\n"
     ]
    }
   ],
   "source": [
    "# installeren van spacy (dit kan even duren)\n",
    "!pip3 install spacy\n",
    "# installeren van Nederlandse bibliotheek\n",
    "!python -m spacy download nl_core_news_sm"
   ]
  },
  {
   "cell_type": "markdown",
   "metadata": {},
   "source": []
  },
  {
   "attachments": {},
   "cell_type": "markdown",
   "metadata": {},
   "source": [
    "Vervolgens laden we spacy in en zeggen we welk model deze moet gebruiken. Het **nl_core_news_sm** model is een geleerd (ML) model met een accuraatheid van 93%!"
   ]
  },
  {
   "cell_type": "code",
   "execution_count": 10,
   "metadata": {},
   "outputs": [],
   "source": [
    "# importeren van spacy\n",
    "import spacy\n",
    "#inladen van Nederlandse bibliotheek\n",
    "nlp = spacy.load(\"nl_core_news_sm\")"
   ]
  },
  {
   "attachments": {},
   "cell_type": "markdown",
   "metadata": {},
   "source": [
    "<div style=\"background-color:#013220\">\n",
    "Het lijkt misschien valspelen dat we andermans ML-model gebruiken. Maar onthoud dat je als programmeur vooral praktisch (lees lui) moet zijn. Het opstellen van een eigen ML-model voor tekstherkenning is mogelijk, maar zou ons veel tijd kosten. Je moet namelijk over heel veel gelabelde data bezitten. Bedenk dat je oefen mee 5.3 en 5.4 uit de vorige Notebook maakt, maar dan voor miljoenen woorden...\n",
    "</div>"
   ]
  },
  {
   "attachments": {},
   "cell_type": "markdown",
   "metadata": {},
   "source": [
    "<div style=\"margin-bottom:-35px;\">\n",
    "    <font color=#690027 markdown=\"1\">\n",
    "        <h3>2.1 Inlezen Lexicon</h3> \n",
    "    </font>\n",
    "</div>\n"
   ]
  },
  {
   "attachments": {},
   "cell_type": "markdown",
   "metadata": {},
   "source": [
    "Net als in de vorige Notebook, moeten we opnieuw ons **lexicon** (= woordenboek) inladen."
   ]
  },
  {
   "cell_type": "code",
   "execution_count": 11,
   "metadata": {},
   "outputs": [],
   "source": [
    "import json"
   ]
  },
  {
   "cell_type": "code",
   "execution_count": 12,
   "metadata": {},
   "outputs": [],
   "source": [
    "# lexicon inlezen. Zorg dat het pad correct is (hoofdmap is hfst_5_AI)!\n",
    "with open(\"lexicondict.json\", \"rb\") as file: # bestand lexicondict.json in map data bevat het sentimentlexicon\n",
    "    lexicon = json.load(file)"
   ]
  },
  {
   "attachments": {},
   "cell_type": "markdown",
   "metadata": {},
   "source": [
    "Na het uitvoeren van al deze code-cellen ben je klaar voor <font color=#690027 markdown=\"1\">3. Preprocessing</font>"
   ]
  },
  {
   "attachments": {},
   "cell_type": "markdown",
   "metadata": {},
   "source": [
    "<div style=\"margin-bottom:-35px;\">\n",
    "    <font color=#690027 markdown=\"1\">\n",
    "        <h2>3. Preprocessing</h2> \n",
    "    </font>\n",
    "</div>"
   ]
  },
  {
   "attachments": {},
   "cell_type": "markdown",
   "metadata": {},
   "source": [
    "<div style=\"background-color:#8B8000\"> \n",
    "Merk op dat 3.0 Data inlezen en 3.1 Lowercasing identiek zijn aan 5.0 Data inlezen en 5.1 Lowercasing van de vorige Notebook.\n",
    "</div>"
   ]
  },
  {
   "attachments": {},
   "cell_type": "markdown",
   "metadata": {},
   "source": [
    "<div style=\"margin-bottom:-35px;\">\n",
    "    <font color=#690027 markdown=\"1\">\n",
    "        <h3>3.0 Inlezen review</h3> \n",
    "    </font>\n",
    "</div>\n"
   ]
  },
  {
   "attachments": {},
   "cell_type": "markdown",
   "metadata": {},
   "source": [
    "Voor deze opdracht zal je werken met dezelfde **klantenreview** als in de notebook 'Regelgebaseerde sentimentanalyse'. \n",
    "<span id=\"review\"></span>"
   ]
  },
  {
   "cell_type": "code",
   "execution_count": 13,
   "metadata": {},
   "outputs": [],
   "source": [
    "review = \"Nieuw concept in Gent, maar dat kan volgens mij toch beter. De meeste cornflakes waren gewoon de basic soorten. Ook wat duur voor de hoeveelheid die je krijgt, vooral met de toppings zijn ze zuinig. En als je ontbijt aanbiedt, geef de mensen dan toch ook wat meer keuze voor hun koffie.\""
   ]
  },
  {
   "cell_type": "code",
   "execution_count": 14,
   "metadata": {},
   "outputs": [
    {
     "name": "stdout",
     "output_type": "stream",
     "text": [
      "Nieuw concept in Gent, maar dat kan volgens mij toch beter. De meeste cornflakes waren gewoon de basic soorten. Ook wat duur voor de hoeveelheid die je krijgt, vooral met de toppings zijn ze zuinig. En als je ontbijt aanbiedt, geef de mensen dan toch ook wat meer keuze voor hun koffie.\n"
     ]
    }
   ],
   "source": [
    "print(review)"
   ]
  },
  {
   "attachments": {},
   "cell_type": "markdown",
   "metadata": {},
   "source": [
    "<div style=\"margin-bottom:-35px;\">\n",
    "    <font color=#690027 markdown=\"1\">\n",
    "        <h3>3.1 Lowercasing</h3> \n",
    "    </font>\n",
    "</div>"
   ]
  },
  {
   "attachments": {},
   "cell_type": "markdown",
   "metadata": {},
   "source": [
    "Zet de tekst in de variabele `review` om naar lowercasing. Sla het resultaat op in de variabele `review_kleineletters`."
   ]
  },
  {
   "cell_type": "code",
   "execution_count": 16,
   "metadata": {},
   "outputs": [],
   "source": [
    "# zet tekst van de review om naar tekst in kleine letters\n",
    "review_kleineletters = review.lower()"
   ]
  },
  {
   "cell_type": "code",
   "execution_count": 17,
   "metadata": {},
   "outputs": [
    {
     "name": "stdout",
     "output_type": "stream",
     "text": [
      "nieuw concept in gent, maar dat kan volgens mij toch beter. de meeste cornflakes waren gewoon de basic soorten. ook wat duur voor de hoeveelheid die je krijgt, vooral met de toppings zijn ze zuinig. en als je ontbijt aanbiedt, geef de mensen dan toch ook wat meer keuze voor hun koffie.\n"
     ]
    }
   ],
   "source": [
    "# toon resultaat van lowercasing\n",
    "print(review_kleineletters)"
   ]
  },
  {
   "attachments": {},
   "cell_type": "markdown",
   "metadata": {},
   "source": [
    "<div style=\"margin-bottom:-35px;\">\n",
    "    <font color=#690027 markdown=\"1\">\n",
    "        <h3>3.2 Tokenisering, Woordsoort tagging en Lemmatisering</h3> \n",
    "    </font>\n",
    "</div>"
   ]
  },
  {
   "attachments": {},
   "cell_type": "markdown",
   "metadata": {},
   "source": [
    "In voorgaande Notebook heb je zelf (regelgestuurd) de **tokenisering** geautomatiseerd. het **spacy**-model zal dit echter ook voor zijn rekening nemen (samen met **tagging** en **lemmatisering**!"
   ]
  },
  {
   "cell_type": "code",
   "execution_count": 29,
   "metadata": {},
   "outputs": [],
   "source": [
    "# review in kleine letters in model voeren\n",
    "review_voorverwerkt = nlp(review_kleineletters)"
   ]
  },
  {
   "attachments": {},
   "cell_type": "markdown",
   "metadata": {},
   "source": [
    "Van de review zijn nu de **tokens** bepaald en van elk token is de **tag** en **lemma** (woordenboeksoort) opgeslagen in de variabele `review_voorverwerkt`.  <br><br>\n",
    "Je kan het **token**, **tag** en **lemma** als volgt uit deze variabele halen:"
   ]
  },
  {
   "cell_type": "code",
   "execution_count": 19,
   "metadata": {
    "scrolled": true
   },
   "outputs": [
    {
     "name": "stdout",
     "output_type": "stream",
     "text": [
      "nieuw\n",
      "concept\n",
      "in\n",
      "gent\n",
      ",\n",
      "maar\n",
      "dat\n",
      "kan\n",
      "volgens\n",
      "mij\n",
      "toch\n",
      "beter\n",
      ".\n",
      "de\n",
      "meeste\n",
      "cornflakes\n",
      "waren\n",
      "gewoon\n",
      "de\n",
      "basic\n",
      "soorten\n",
      ".\n",
      "ook\n",
      "wat\n",
      "duur\n",
      "voor\n",
      "de\n",
      "hoeveelheid\n",
      "die\n",
      "je\n",
      "krijgt\n",
      ",\n",
      "vooral\n",
      "met\n",
      "de\n",
      "toppings\n",
      "zijn\n",
      "ze\n",
      "zuinig\n",
      ".\n",
      "en\n",
      "als\n",
      "je\n",
      "ontbijt\n",
      "aanbiedt\n",
      ",\n",
      "geef\n",
      "de\n",
      "mensen\n",
      "dan\n",
      "toch\n",
      "ook\n",
      "wat\n",
      "meer\n",
      "keuze\n",
      "voor\n",
      "hun\n",
      "koffie\n",
      ".\n"
     ]
    }
   ],
   "source": [
    "# Print het token zelf\n",
    "for token in review_voorverwerkt:\n",
    "    print(token.text)"
   ]
  },
  {
   "cell_type": "code",
   "execution_count": 20,
   "metadata": {},
   "outputs": [
    {
     "name": "stdout",
     "output_type": "stream",
     "text": [
      "ADJ\n",
      "NOUN\n",
      "ADP\n",
      "PROPN\n",
      "PUNCT\n",
      "CCONJ\n",
      "PRON\n",
      "AUX\n",
      "ADP\n",
      "PRON\n",
      "ADV\n",
      "ADJ\n",
      "PUNCT\n",
      "DET\n",
      "ADV\n",
      "NOUN\n",
      "AUX\n",
      "ADJ\n",
      "DET\n",
      "NOUN\n",
      "NOUN\n",
      "PUNCT\n",
      "ADV\n",
      "PRON\n",
      "ADJ\n",
      "ADP\n",
      "DET\n",
      "NOUN\n",
      "PRON\n",
      "PRON\n",
      "VERB\n",
      "PUNCT\n",
      "ADV\n",
      "ADP\n",
      "DET\n",
      "NOUN\n",
      "AUX\n",
      "PRON\n",
      "ADJ\n",
      "PUNCT\n",
      "CCONJ\n",
      "SCONJ\n",
      "PRON\n",
      "NOUN\n",
      "VERB\n",
      "PUNCT\n",
      "VERB\n",
      "DET\n",
      "NOUN\n",
      "ADV\n",
      "ADV\n",
      "ADV\n",
      "PRON\n",
      "DET\n",
      "NOUN\n",
      "ADP\n",
      "PRON\n",
      "NOUN\n",
      "PUNCT\n"
     ]
    }
   ],
   "source": [
    "# Print de woordsoort tag van elk token\n",
    "for token in review_voorverwerkt:\n",
    "    print(token.pos_)"
   ]
  },
  {
   "cell_type": "code",
   "execution_count": 32,
   "metadata": {},
   "outputs": [
    {
     "name": "stdout",
     "output_type": "stream",
     "text": [
      "nieuw\n",
      "concept\n",
      "in\n",
      "Gent\n",
      ",\n",
      "maar\n",
      "dat\n",
      "kunnen\n",
      "volgens\n",
      "mij\n",
      "toch\n",
      "goed\n",
      ".\n",
      "de\n",
      "veel\n",
      "cornflakes\n",
      "zijn\n",
      "gewoon\n",
      "de\n",
      "basic\n",
      "soort\n",
      ".\n",
      "ook\n",
      "wat\n",
      "duur\n",
      "voor\n",
      "de\n",
      "hoeveelheid\n",
      "die\n",
      "je\n",
      "krijgen\n",
      ",\n",
      "vooral\n",
      "met\n",
      "de\n",
      "toppings\n",
      "zijn\n",
      "ze\n",
      "zuinig\n",
      ".\n",
      "en\n",
      "als\n",
      "je\n",
      "ontbijt\n",
      "aanbieden\n",
      ",\n",
      "geven\n",
      "de\n",
      "mens\n",
      "dan\n",
      "toch\n",
      "ook\n",
      "wat\n",
      "veel\n",
      "keuze\n",
      "voor\n",
      "hun\n",
      "koffie\n",
      ".\n"
     ]
    }
   ],
   "source": [
    "# Print de lemma van elk token\n",
    "for token in review_voorverwerkt:\n",
    "    print(token.lemma_)"
   ]
  },
  {
   "attachments": {},
   "cell_type": "markdown",
   "metadata": {},
   "source": [
    "Enkele voorbeelden van de preprocessed (voorwerkte) review zijn:\n",
    "- Het eerste token is 'nieuw'. De basisvorm of lemma is `nieuw` en dit is een adjectief, ADJ.\n",
    "- Neem het token ','. De basisvorm of lemma is `,` en dit is een leesteken, dus een symbool, SYM.\n",
    "- Neem het token 'kan'. De basisvorm of lemma is `kunnen` en dit is een hulpwerkwoord, AUX.\n",
    "- Neem het token 'soorten'. De basisvorm of lemma is `soort` en dit is een substantief, NOUN.\n",
    "\n",
    "<div style=\"background-color:#8B8000\"> \n",
    "Merk op dat <b>**spacy**</b> de woordsoort in het Engels geeft. Dit is ook de reden waarom het **Lexicon** Engelse afkortingen gebruikt.\n",
    "</div>"
   ]
  },
  {
   "attachments": {},
   "cell_type": "markdown",
   "metadata": {},
   "source": [
    "#### Oefen mee 3.1:\n",
    "Doorloop `review_voorverwerkt` en stel twee lijsten op `lemmas` en `tags`.\n",
    "- De lijst `lemmas` bevat alle gelemmatiseerde tokens (in correcte volgorde).\n",
    "- De lijst `tags` bevat de woordsoorten van alle tokens (in correcte volgorde).\n",
    "\n",
    "Als voorbeeld:<br>\n",
    "- `review_voorverwerkt` = \"gent , maar dat kan\" <br>\n",
    "- `lemmas` = [\"Gent\", \",\", \"maar\", \"dat\", \"kunnen\"] <br>\n",
    "- `tags` = [\"PROPN\", \"PUNCT\", \"CCONJ\", \"PRON\", \"AUX]\n"
   ]
  },
  {
   "cell_type": "code",
   "execution_count": 43,
   "metadata": {},
   "outputs": [
    {
     "name": "stdout",
     "output_type": "stream",
     "text": [
      "ADJ\n",
      "NOUN\n",
      "ADP\n",
      "PROPN\n",
      "PUNCT\n",
      "CCONJ\n",
      "PRON\n",
      "AUX\n",
      "ADP\n",
      "PRON\n",
      "ADV\n",
      "ADJ\n",
      "PUNCT\n",
      "DET\n",
      "ADV\n",
      "NOUN\n",
      "AUX\n",
      "ADJ\n",
      "DET\n",
      "NOUN\n",
      "NOUN\n",
      "PUNCT\n",
      "ADV\n",
      "PRON\n",
      "ADJ\n",
      "ADP\n",
      "DET\n",
      "NOUN\n",
      "PRON\n",
      "PRON\n",
      "VERB\n",
      "PUNCT\n",
      "ADV\n",
      "ADP\n",
      "DET\n",
      "NOUN\n",
      "AUX\n",
      "PRON\n",
      "ADJ\n",
      "PUNCT\n",
      "CCONJ\n",
      "SCONJ\n",
      "PRON\n",
      "NOUN\n",
      "VERB\n",
      "PUNCT\n",
      "VERB\n",
      "DET\n",
      "NOUN\n",
      "ADV\n",
      "ADV\n",
      "ADV\n",
      "PRON\n",
      "DET\n",
      "NOUN\n",
      "ADP\n",
      "PRON\n",
      "NOUN\n",
      "PUNCT\n"
     ]
    }
   ],
   "source": [
    "lemmas = []\n",
    "tags = []\n",
    "for token in review_voorverwerkt:\n",
    "    print(token.pos_)\n",
    "    tags.append(token.pos_)\n",
    "    lemmas.append(token.lemma_)\n",
    "    \n",
    "# Vul aan"
   ]
  },
  {
   "attachments": {},
   "cell_type": "markdown",
   "metadata": {},
   "source": [
    "Je kan onderstaande code gebruiken om te controleren of de lijsten juist zijn."
   ]
  },
  {
   "cell_type": "code",
   "execution_count": 45,
   "metadata": {},
   "outputs": [
    {
     "name": "stdout",
     "output_type": "stream",
     "text": [
      "nieuw | nieuw: ADJ\n",
      "concept | concept: NOUN\n",
      "in | in: ADP\n",
      "gent | Gent: PROPN\n",
      ", | ,: PUNCT\n",
      "maar | maar: CCONJ\n",
      "dat | dat: PRON\n",
      "kan | kunnen: AUX\n",
      "volgens | volgens: ADP\n",
      "mij | mij: PRON\n",
      "toch | toch: ADV\n",
      "beter | goed: ADJ\n",
      ". | .: PUNCT\n",
      "de | de: DET\n",
      "meeste | veel: ADV\n",
      "cornflakes | cornflakes: NOUN\n",
      "waren | zijn: AUX\n",
      "gewoon | gewoon: ADJ\n",
      "de | de: DET\n",
      "basic | basic: NOUN\n",
      "soorten | soort: NOUN\n",
      ". | .: PUNCT\n",
      "ook | ook: ADV\n",
      "wat | wat: PRON\n",
      "duur | duur: ADJ\n",
      "voor | voor: ADP\n",
      "de | de: DET\n",
      "hoeveelheid | hoeveelheid: NOUN\n",
      "die | die: PRON\n",
      "je | je: PRON\n",
      "krijgt | krijgen: VERB\n",
      ", | ,: PUNCT\n",
      "vooral | vooral: ADV\n",
      "met | met: ADP\n",
      "de | de: DET\n",
      "toppings | toppings: NOUN\n",
      "zijn | zijn: AUX\n",
      "ze | ze: PRON\n",
      "zuinig | zuinig: ADJ\n",
      ". | .: PUNCT\n",
      "en | en: CCONJ\n",
      "als | als: SCONJ\n",
      "je | je: PRON\n",
      "ontbijt | ontbijt: NOUN\n",
      "aanbiedt | aanbieden: VERB\n",
      ", | ,: PUNCT\n",
      "geef | geven: VERB\n",
      "de | de: DET\n",
      "mensen | mens: NOUN\n",
      "dan | dan: ADV\n",
      "toch | toch: ADV\n",
      "ook | ook: ADV\n",
      "wat | wat: PRON\n",
      "meer | veel: DET\n",
      "keuze | keuze: NOUN\n",
      "voor | voor: ADP\n",
      "hun | hun: PRON\n",
      "koffie | koffie: NOUN\n",
      ". | .: PUNCT\n"
     ]
    }
   ],
   "source": [
    "# Toon eerste tien tokens en lemmas/tags van deze tokens\n",
    "for i in range(len(review_voorverwerkt)):\n",
    "    print(f\"{review_voorverwerkt[i].text} | {lemmas[i]}: {tags[i]}\")"
   ]
  },
  {
   "attachments": {},
   "cell_type": "markdown",
   "metadata": {},
   "source": [
    "<div style=\"background-color:#8B0000\"> \n",
    "Ga pas verder als bovenstaande lijsten correct opgesteld zijn. Vraag na als je niet zeker bent.\n",
    "</div>\n"
   ]
  },
  {
   "attachments": {},
   "cell_type": "markdown",
   "metadata": {},
   "source": [
    "<div style=\"margin-bottom:-35px;\">\n",
    "    <font color=#690027 markdown=\"1\">\n",
    "        <h2>4. Sentiment lexicon matching</h2> \n",
    "    </font>\n",
    "</div>"
   ]
  },
  {
   "attachments": {},
   "cell_type": "markdown",
   "metadata": {},
   "source": [
    "Nu de review *gepreprocessed* (voorverwerkt) is, kan je het sentiment bepalen met behulp van het sentimentlexicon dat je ter beschikking hebt. Dit was reeds geautomatiseerd in 'Regelgebaseerde sentimentanalyse'. Je neemt de code van 'Regelgebaseerde sentimentanalyse' dus gewoon over."
   ]
  },
  {
   "cell_type": "code",
   "execution_count": null,
   "metadata": {},
   "outputs": [],
   "source": [
    "# Kopieer hier de oplossing van oefen mee 6.1 uit de vorige Notebook\n",
    "sentiment_score = 0\n",
    "for index, lemma in enumerate(lemmas):\n",
    "    if lexicon.get(lemma,False) == False:\n",
    "        continue\n",
    "    sentiment_score += lexicon[lemma].get(tags[index],0)"
   ]
  },
  {
   "attachments": {},
   "cell_type": "markdown",
   "metadata": {},
   "source": [
    "Je kan onderstaande code gebruiken om een zin te printen bij de bekomen sentiment_score."
   ]
  },
  {
   "cell_type": "code",
   "execution_count": null,
   "metadata": {},
   "outputs": [],
   "source": [
    "# eindbeslissing voor deze review\n",
    "if sentiment_score > 0:\n",
    "    sentiment = \"positief\"\n",
    "elif sentiment_score == 0:\n",
    "    sentiment = \"neutraal\"\n",
    "elif sentiment_score < 0:\n",
    "    sentiment = \"negatief\"\n",
    "print(f\"De sentimentscore van de review is: {sentiment_score}\")\n",
    "print(\"Het sentiment van de review is \" + sentiment + \".\")    "
   ]
  },
  {
   "attachments": {},
   "cell_type": "markdown",
   "metadata": {},
   "source": [
    "#### Oefen mee 4.1:\n",
    "Bekijk de volgende reviews. \n",
    "\n",
    "-  Kies er een uit.\n",
    "-  Welk sentiment koppel jij er intuïtief aan?\n",
    "-  Doorloop alle stappen met de gekozen review (plak nieuwe review <a href=#review>hier</a> en voer alle codeblokken opnieuw uit)\n",
    "- Vergelijk de sentimentscore met je eigen verwachtingen. Komen ze overeen?\n",
    "\n",
    "> Sunrisewater is net wat België nodig heeft. Met het obesitasprobleem dat toch wel aan een opmars bezig is, kunnen we alle initiatieven gebruiken om de jeugd weer gewoon water te laten drinken in plaats van die Amerikaanse bucht! Het smaakt geweldig en wat nog beter is, is dat je het gewoon op elke straathoek kan vinden! Echt geweldig! Vooral de pink and yellow is ten zeerste aan te raden.\n",
    "\n",
    ">  Salé & Sucré staat bekend voor zijn super lekkere en originele cocktails, helaas was er geen alcoholvrije variant te verkrijgen. Onze BOB van dienst moest het dan maar bij frisdrank houden.\n",
    "\n",
    ">  Het was superleuk om eens te mogen proeven van de Filipijnse keuken. De gerechten zaten goed in elkaar, de porties waren zeker groot genoeg en de smaken zaten helemaal goed. Voor herhaling vatbaar!\n",
    "\n",
    ">  Gezellige sfeer, lekkere koffie en een mooi interieur. De combinatie van een studiebar en een babbelbar is een geniaal idee! Studeren met een lekker bakkie koffie, een overheerlijk hapje en samen met andere studenten, werkt enorm motiverend. Het interieur is enorm rustgevend met weinig afleiding, waardoor ik nog nooit zoveel heb kunnen doen!\n",
    "\n",
    "> Wow, wat een coole restaurants! En het eten is er megalekker."
   ]
  },
  {
   "attachments": {},
   "cell_type": "markdown",
   "metadata": {},
   "source": [
    "#### Oefen mee 4.2:\n",
    "Je kan ook je eigen review schrijven. Vul de variabele `zelfgeschreven_review` in en voer vervolgens onderstaande codeblok uit. Hoe zal de sentimentanalyse omgaan met sarcasme en cynisme? Komt de analyse overeen met je eigen verwachtingen?"
   ]
  },
  {
   "cell_type": "code",
   "execution_count": null,
   "metadata": {},
   "outputs": [],
   "source": [
    "# plaats zelfgeschreven review tussen aanhalingstekens, pas dus gegeven string aan\n",
    "zelfgeschreven_review = \"Hopelijk was dit een leuke notebook!\"\n",
    "\n",
    "# volgende stappen: review tonen en nlp() erop toepassen\n",
    "print(zelfgeschreven_review)\n",
    "review = nlp(zelfgeschreven_review.lower())\n",
    "\n",
    "# Voeg lemmas en woordsoorten toe aan lijsten\n",
    "lemmas = []\n",
    "woordsoorten = []\n",
    "for index, token in enumerate(review_voorverwerkt):\n",
    "    lemmas.append(token.lemma_)\n",
    "    woordsoorten.append(token.pos_)\n",
    "\n",
    "# Bepaal sentimentscore (oplossing combineert in en get)\n",
    "sentiment_score = 0\n",
    "for index, lemma in enumerate(lemmas):\n",
    "    if lemma not in lexicon:\n",
    "        continue\n",
    "    sentiment_score+= lexicon[lemma].get(woordsoorten[index], 0)\n",
    "\n",
    "# eindbeslissing voor deze review\n",
    "if sentiment_score > 0:\n",
    "    sentiment = \"positief\"\n",
    "elif sentiment_score == 0:\n",
    "    sentiment = \"neutraal\"\n",
    "elif sentiment_score < 0:\n",
    "    sentiment = \"negatief\"\n",
    "print(f\"De sentimentscore van de review is: {sentiment_score}\")\n",
    "print(\"Het sentiment van de review is \" + sentiment + \".\")   "
   ]
  },
  {
   "attachments": {},
   "cell_type": "markdown",
   "metadata": {},
   "source": [
    "<div style=\"background-color:#013220\">\n",
    "Proficiat, je hebt jouw regelgebaseerd (AI) systeem gecombineerd met een lerend (ML) systeem. Hierdoor is de sentimentanalyse volledig geautomatiseerd!\n",
    "</div>"
   ]
  },
  {
   "attachments": {},
   "cell_type": "markdown",
   "metadata": {},
   "source": [
    "  <a href=\"https://www.aiopschool.be/chatbot/\"> \n",
    "        <img src=\"../_afbeeldingen/bannerugentdwengo.png\" alt=\"Dwengo\" style =\"display: block; margin-left: auto; margin-right: auto; margin-bottom: 30px; width:20%\"/>\n",
    "    </a>\n",
    "\n",
    "Deze Notebook is gebaseerd op: Notebook sentimentanalysemodel, zie <a href=\"http://www.aiopschool.be\">AI Op School</a>, van S. Pletinck , F. wyffels & N. Gesquière is in licentie gegeven volgens een <a href=\"http://creativecommons.org/licenses/by-nc-sa/4.0/\">Creative Commons Naamsvermelding-NietCommercieel-GelijkDelen 4.0 Internationaal-licentie</a>. "
   ]
  }
 ],
 "metadata": {
  "kernelspec": {
   "display_name": "Python 3",
   "language": "python",
   "name": "python3"
  },
  "language_info": {
   "codemirror_mode": {
    "name": "ipython",
    "version": 3
   },
   "file_extension": ".py",
   "mimetype": "text/x-python",
   "name": "python",
   "nbconvert_exporter": "python",
   "pygments_lexer": "ipython3",
   "version": "3.11.0"
  },
  "vscode": {
   "interpreter": {
    "hash": "50da9237890665c4483b3ad427755173b425d1aee104481143f24ce6d05fb39d"
   }
  }
 },
 "nbformat": 4,
 "nbformat_minor": 4
}
